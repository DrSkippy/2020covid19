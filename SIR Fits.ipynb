{
 "cells": [
  {
   "cell_type": "code",
   "execution_count": null,
   "metadata": {},
   "outputs": [],
   "source": [
    "import datetime\n",
    "import pandas as pd\n",
    "import numpy as np\n",
    "import seaborn as sns\n",
    "import matplotlib\n",
    "from matplotlib import pyplot as plt\n",
    "%matplotlib inline\n",
    "sns.set()"
   ]
  },
  {
   "cell_type": "code",
   "execution_count": null,
   "metadata": {},
   "outputs": [],
   "source": [
    "from covid_tracking_data.collector import *\n",
    "from covid_analysis.utility import *\n",
    "from covid_analysis.models import *\n",
    "from ourworldindata_org.collector import *"
   ]
  },
  {
   "cell_type": "code",
   "execution_count": null,
   "metadata": {},
   "outputs": [],
   "source": [
    " from matplotlib.axes._axes import _log as matplotlib_axes_logger\n",
    " matplotlib_axes_logger.setLevel('ERROR')"
   ]
  },
  {
   "cell_type": "markdown",
   "metadata": {},
   "source": [
    "### Fetch data set from local disk"
   ]
  },
  {
   "cell_type": "code",
   "execution_count": null,
   "metadata": {},
   "outputs": [],
   "source": [
    "!ls ~/data/\n",
    "# gets thte latest file names\n",
    "recent = ! ls -drt ~/data/* | tail -n 2\n",
    "print(\"Latest files are:\\n\\t{}\\n\\t{}\".format(*recent))"
   ]
  },
  {
   "cell_type": "code",
   "execution_count": null,
   "metadata": {},
   "outputs": [],
   "source": [
    "df, states_in_order = get_dataset_df_from_file(recent)\n",
    "df.head()"
   ]
  },
  {
   "cell_type": "markdown",
   "metadata": {
    "scrolled": false
   },
   "source": [
    "### SIR Model"
   ]
  },
  {
   "cell_type": "code",
   "execution_count": null,
   "metadata": {},
   "outputs": [],
   "source": [
    "dfq = get_state_df(df, \"*\")\n",
    "cc = CurrentCasesUndercount()\n",
    "dfq = cc.add_positive_estimate(dfq)\n",
    "ccd = CurrentCasesFromDeaths()\n",
    "dfq = ccd.add_positive_estimate(dfq, params={\"a\": 250, \"shift\": 14})\n",
    "dfq.head()"
   ]
  },
  {
   "cell_type": "code",
   "execution_count": null,
   "metadata": {},
   "outputs": [],
   "source": [
    "dfq.plot(x=\"date\", y=[\"positive\", \"positive_undercount\", \"positive_fromdeath\"])"
   ]
  },
  {
   "cell_type": "code",
   "execution_count": null,
   "metadata": {},
   "outputs": [],
   "source": [
    "# Exponential Model\n",
    "mp = ModelProjectionExponential()\n",
    "d = mp.project(dfq, 10)\n",
    "d.plot(x=\"date\", y=[\"positive\", \"positive_predicted\", \"hospitalized_ident\", \"icu_ident\"])\n",
    "d.tail(11)"
   ]
  },
  {
   "cell_type": "markdown",
   "metadata": {},
   "source": [
    "### SIR Fit"
   ]
  },
  {
   "cell_type": "code",
   "execution_count": null,
   "metadata": {},
   "outputs": [],
   "source": [
    "N=350000 \n",
    "x0 = (0.25749545, 0.10952173, 3.17810689)  # beta, gamma, I0\n",
    "c = ccd.fit_series/1000\n",
    "start_date = dfq.date.values[0] - pd.Timedelta(days=ccd.shift)\n",
    "sf = SIR()\n",
    "(N, I0, R0, beta, gamma) = sf.SIRFitter(c, N, x0)\n",
    "print(\"#\"*70)\n",
    "print(\"Day 0 = {}  (today={})\".format(start_date,\n",
    "                            (pd.Timestamp.now() - dfq.date.values[0]).days + cc.shift))\n",
    "print(\"Doubling time is about {:.2f} days\".format(np.log(2)/beta))\n",
    "print(\"Recovery time is about {:.2f} days\".format(np.log(2)/gamma))\n",
    "print(\"Estimated initial infection was order of {:,} poeple\".format(int(1000*I0)))\n",
    "df = sf.project(c, 160, params={\"SIR\": (N, I0, R0, beta, gamma), \"start_date\": start_date})\n",
    "df.plot(x=\"date\", \n",
    "        y=[\"positive\", \"positive_predicted\", \"infected\", \"removed\", \"hospitalized_ident\", \"icu_ident\"], \n",
    "        figsize=[15, 8], ylim=[0, 2*np.max(c)])"
   ]
  },
  {
   "cell_type": "markdown",
   "metadata": {},
   "source": [
    "### SIR4: Try Varying beta as part of the model"
   ]
  },
  {
   "cell_type": "code",
   "execution_count": null,
   "metadata": {},
   "outputs": [],
   "source": [
    "def g(alpha, beta0, t):\n",
    "    return beta0 - alpha * t\n",
    "\n",
    "def h(alpha, beta0, t):\n",
    "    return beta0 - np.log(alpha) * alpha ** t\n",
    "\n",
    "t = np.arange(0, 200, 1)\n",
    "plt.plot(t, g(.000001, .33, t))\n",
    "plt.plot(t, h(1.01, .33, t))\n",
    "plt.show()"
   ]
  },
  {
   "cell_type": "code",
   "execution_count": null,
   "metadata": {},
   "outputs": [],
   "source": [
    "N=350000\n",
    "x0 = (0.01313296, 0.87278724, 0.33722395, 0.01900052)  # alpha, beta0, gamma, I0\n",
    "c = ccd.fit_series/1000\n",
    "start_date = dfq.date.values[0] - pd.Timedelta(days=ccd.shift)\n",
    "sf = SIR4()\n",
    "(N, I0, R0, beta0, alpha, gamma) = sf.SIRFitter(c, N, x0)\n",
    "print(\"#\"*70)\n",
    "print(\"Day 0 = {}  (today={})\".format(start_date,\n",
    "                            (pd.Timestamp.now() - dfq.date.values[0]).days + cc.shift))\n",
    "print(\"Doubling time is about {:.2f} days\".format(np.log(2)/beta))\n",
    "print(\"Recovery time is about {:.2f} days\".format(np.log(2)/gamma))\n",
    "print(\"Estimated initial infection was order of {:,} poeple\".format(int(1000*I0)))\n",
    "df = sf.project(c, 160, params={\"SIR\": (N, I0, R0, beta0, alpha, gamma), \"start_date\": start_date})\n",
    "df.plot(x=\"date\", \n",
    "        y=[\"positive\", \"positive_predicted\", \"infected\", \"removed\", \"hospitalized_ident\", \"icu_ident\"], \n",
    "        figsize=[15, 8], ylim=[0, 2*np.max(c)])"
   ]
  },
  {
   "cell_type": "code",
   "execution_count": null,
   "metadata": {},
   "outputs": [],
   "source": [
    "dfw, wsl = get_dataset_df_from_files(in_filename)\n",
    "dfw.head()"
   ]
  },
  {
   "cell_type": "code",
   "execution_count": null,
   "metadata": {},
   "outputs": [],
   "source": [
    "dfq = get_state_df(dfw, \"ITA\")\n",
    "ccd = CurrentCasesFromDeaths()\n",
    "dfq = ccd.add_positive_estimate(dfq)\n",
    "N=60000 \n",
    "R0=0\n",
    "x0 = (0.33821616, 0.15247499, 2.6568561)\n",
    "sf = SIR()\n",
    "c = ccd.fit_series/1000\n",
    "(N, I0, R0, beta, gamma) = sf.SIRFitter(c, N, x0)\n",
    "print(\"#\"*70)\n",
    "print(\"Day 0 = {}  (today={})\".format(start_date,\n",
    "                            (pd.Timestamp.now() - dfq.date.values[0]).days + cc.shift))\n",
    "print(\"Doubling time is about {:.2f} days\".format(np.log(2)/beta))\n",
    "print(\"Recovery time is about {:.2f} days\".format(np.log(2)/gamma))\n",
    "print(\"Estimated initial infection was order of {:,} poeple\".format(int(1000*I0)))\n",
    "df = sf.project(c, 160, params={\"SIR\": (N, I0, R0, beta, gamma), \"start_date\": start_date})\n",
    "df.plot(x=\"date\", \n",
    "        y=[\"positive\", \"positive_predicted\", \"infected\", \"removed\", \"hospitalized_ident\", \"icu_ident\"], \n",
    "        figsize=[15, 8], ylim=[0, 2*np.max(c)])"
   ]
  },
  {
   "cell_type": "code",
   "execution_count": null,
   "metadata": {},
   "outputs": [],
   "source": [
    "N=60000 \n",
    "x0 = (4.13379338e-05, 7.42328935e-01, 5.71938181e-01, 2.09353947e-04)  # alpha, beta0, gamma, I0\n",
    "c = ccd.fit_series/1000\n",
    "start_date = dfq.date.values[0] - pd.Timedelta(days=ccd.shift)\n",
    "sf = SIR4()\n",
    "(N, I0, R0, beta0, alpha, gamma) = sf.SIRFitter(c, N, x0)\n",
    "print(\"#\"*70)\n",
    "print(\"Day 0 = {}  (today={})\".format(start_date,\n",
    "                            (pd.Timestamp.now() - dfq.date.values[0]).days + cc.shift))\n",
    "print(\"Doubling time is about {:.2f} days\".format(np.log(2)/beta))\n",
    "print(\"Recovery time is about {:.2f} days\".format(np.log(2)/gamma))\n",
    "print(\"Estimated initial infection was order of {:,} poeple\".format(int(1000*I0)))\n",
    "df = sf.project(c, 160, params={\"SIR\": (N, I0, R0, beta0, alpha, gamma), \"start_date\": start_date})\n",
    "df.plot(x=\"date\", \n",
    "        y=[\"positive\", \"positive_predicted\", \"infected\", \"removed\", \"hospitalized_ident\", \"icu_ident\"], \n",
    "        figsize=[15, 8], ylim=[0, 2*np.max(c)])"
   ]
  },
  {
   "cell_type": "code",
   "execution_count": null,
   "metadata": {},
   "outputs": [],
   "source": [
    "dfq = get_state_df(dfw, \"ESP\")\n",
    "ccd = CurrentCasesFromDeaths()\n",
    "dfq = ccd.add_positive_estimate(dfq)\n",
    "N=47000\n",
    "R0=0\n",
    "x0 = (0.2262658 , 0.14456682, 0.43210381 )\n",
    "sf = SIR()\n",
    "(N, I0, R0, beta, gamma) = sf.SIRFitter(c, N, x0)\n",
    "print(\"#\"*70)\n",
    "print(\"Day 0 = {}  (today={})\".format(start_date,\n",
    "                            (pd.Timestamp.now() - dfq.date.values[0]).days + cc.shift))\n",
    "print(\"Doubling time is about {:.2f} days\".format(np.log(2)/beta))\n",
    "print(\"Recovery time is about {:.2f} days\".format(np.log(2)/gamma))\n",
    "print(\"Estimated initial infection was order of {:,} poeple\".format(int(1000*I0)))\n",
    "df = sf.project(c, 160, params={\"SIR\": (N, I0, R0, beta, gamma), \"start_date\": start_date})\n",
    "df.plot(x=\"date\", \n",
    "        y=[\"positive\", \"positive_predicted\", \"infected\", \"removed\", \"hospitalized_ident\", \"icu_ident\"], \n",
    "        figsize=[15, 8], ylim=[0, 2*np.max(c)])"
   ]
  },
  {
   "cell_type": "code",
   "execution_count": null,
   "metadata": {},
   "outputs": [],
   "source": [
    "N=47000 \n",
    "x0 = (6.23470525e-05, 7.62581143e-01, 5.41117221e-01, 1.10624820e-06)  # alpha, beta0, gamma, I0\n",
    "c = ccd.fit_series/1000\n",
    "start_date = dfq.date.values[0] - pd.Timedelta(days=ccd.shift)\n",
    "sf = SIR4()\n",
    "(N, I0, R0, beta0, alpha, gamma) = sf.SIRFitter(c, N, x0)\n",
    "print(\"#\"*70)\n",
    "print(\"Day 0 = {}  (today={})\".format(start_date,\n",
    "                            (pd.Timestamp.now() - dfq.date.values[0]).days + cc.shift))\n",
    "print(\"Doubling time is about {:.2f} days\".format(np.log(2)/beta))\n",
    "print(\"Recovery time is about {:.2f} days\".format(np.log(2)/gamma))\n",
    "print(\"Estimated initial infection was order of {:,} poeple\".format(int(1000*I0)))\n",
    "df = sf.project(c, 160, params={\"SIR\": (N, I0, R0, beta0, alpha, gamma), \"start_date\": start_date})\n",
    "df.plot(x=\"date\", \n",
    "        y=[\"positive\", \"positive_predicted\", \"infected\", \"removed\", \"hospitalized_ident\", \"icu_ident\"], \n",
    "        figsize=[15, 8], ylim=[0, 2*np.max(c)])"
   ]
  },
  {
   "cell_type": "code",
   "execution_count": null,
   "metadata": {},
   "outputs": [],
   "source": []
  }
 ],
 "metadata": {
  "kernelspec": {
   "display_name": "Python 3",
   "language": "python",
   "name": "python3"
  },
  "language_info": {
   "codemirror_mode": {
    "name": "ipython",
    "version": 3
   },
   "file_extension": ".py",
   "mimetype": "text/x-python",
   "name": "python",
   "nbconvert_exporter": "python",
   "pygments_lexer": "ipython3",
   "version": "3.8.1"
  },
  "pycharm": {
   "stem_cell": {
    "cell_type": "raw",
    "metadata": {
     "collapsed": false
    },
    "source": []
   }
  }
 },
 "nbformat": 4,
 "nbformat_minor": 4
}
